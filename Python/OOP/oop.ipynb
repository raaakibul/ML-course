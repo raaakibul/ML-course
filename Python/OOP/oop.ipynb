{
 "cells": [
  {
   "cell_type": "code",
   "execution_count": 1,
   "metadata": {},
   "outputs": [
    {
     "name": "stdout",
     "output_type": "stream",
     "text": [
      "Car: Tesla Model S\n"
     ]
    }
   ],
   "source": [
    "# Simple Class\n",
    "\n",
    "class Car:\n",
    "    def __init__(self, brand, model):\n",
    "        self.brand = brand  # Attribute (Instance Variable)\n",
    "        self.model = model\n",
    "\n",
    "    def display_info(self):\n",
    "        print(f\"Car: {self.brand} {self.model}\")\n",
    "\n",
    "# Creating an object\n",
    "my_car = Car(\"Tesla\", \"Model S\")\n",
    "my_car.display_info()"
   ]
  },
  {
   "cell_type": "code",
   "execution_count": 2,
   "metadata": {},
   "outputs": [
    {
     "name": "stdout",
     "output_type": "stream",
     "text": [
      "4\n",
      "4\n",
      "6\n",
      "6\n"
     ]
    }
   ],
   "source": [
    "#  Instance vs Class Variables\n",
    "class Car:\n",
    "    wheels = 4  # Class variable (shared by all instances)\n",
    "\n",
    "    def __init__(self, brand, model):\n",
    "        self.brand = brand  # Instance variable\n",
    "        self.model = model\n",
    "\n",
    "# Creating objects\n",
    "car1 = Car(\"BMW\", \"X5\")\n",
    "car2 = Car(\"Audi\", \"A4\")\n",
    "\n",
    "print(car1.wheels)  # 4 (shared)\n",
    "print(car2.wheels)  # 4 (shared)\n",
    "\n",
    "Car.wheels = 6  # Modifies class variable\n",
    "\n",
    "print(car1.wheels)  # 6 (updated for all)\n",
    "print(car2.wheels)  # 6 (updated for all)\n"
   ]
  },
  {
   "cell_type": "code",
   "execution_count": 3,
   "metadata": {},
   "outputs": [
    {
     "name": "stdout",
     "output_type": "stream",
     "text": [
      "Car: Toyota Corolla\n",
      "6\n",
      "True\n"
     ]
    }
   ],
   "source": [
    "# Instance Methods, Class Methods, and Static Methods\n",
    "class Car:\n",
    "    wheels = 4  # Class variable\n",
    "\n",
    "    def __init__(self, brand, model):\n",
    "        self.brand = brand  # Instance variable\n",
    "        self.model = model\n",
    "\n",
    "    def show_details(self):  # Instance Method\n",
    "        print(f\"Car: {self.brand} {self.model}\")\n",
    "\n",
    "    @classmethod\n",
    "    def change_wheels(cls, new_wheels):  # Class Method\n",
    "        cls.wheels = new_wheels\n",
    "\n",
    "    @staticmethod\n",
    "    def is_motor_vehicle():  # Static Method\n",
    "        return True\n",
    "\n",
    "# Using methods\n",
    "car1 = Car(\"Toyota\", \"Corolla\")\n",
    "car1.show_details()\n",
    "\n",
    "Car.change_wheels(6)  # Modify class variable\n",
    "print(car1.wheels)  # 6 (updated)\n",
    "\n",
    "print(Car.is_motor_vehicle())  # True\n"
   ]
  }
 ],
 "metadata": {
  "kernelspec": {
   "display_name": "Python 3",
   "language": "python",
   "name": "python3"
  },
  "language_info": {
   "codemirror_mode": {
    "name": "ipython",
    "version": 3
   },
   "file_extension": ".py",
   "mimetype": "text/x-python",
   "name": "python",
   "nbconvert_exporter": "python",
   "pygments_lexer": "ipython3",
   "version": "3.13.0"
  }
 },
 "nbformat": 4,
 "nbformat_minor": 2
}
