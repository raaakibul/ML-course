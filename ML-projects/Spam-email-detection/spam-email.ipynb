{
 "cells": [
  {
   "cell_type": "code",
   "execution_count": null,
   "metadata": {},
   "outputs": [],
   "source": [
    "# Step 1: Import necessary libraries\n",
    "import pandas as pd  # For df manipulation\n",
    "from sklearn.feature_extraction.text import CountVectorizer  # For text vectorization\n",
    "from sklearn.model_selection import train_test_split  # For splitting df\n",
    "from sklearn.naive_bayes import MultinomialNB  # Machine learning model\n",
    "from sklearn.metrics import accuracy_score, classification_report  # For evaluation\n"
   ]
  },
  {
   "cell_type": "code",
   "execution_count": null,
   "metadata": {},
   "outputs": [
    {
     "name": "stdout",
     "output_type": "stream",
     "text": [
      "                                                   text  spam\n",
      "0     Subject: naturally irresistible your corporate...     1\n",
      "1     Subject: the stock trading gunslinger  fanny i...     1\n",
      "2     Subject: unbelievable new homes made easy  im ...     1\n",
      "3     Subject: 4 color printing special  request add...     1\n",
      "4     Subject: do not have money , get software cds ...     1\n",
      "...                                                 ...   ...\n",
      "5723  Subject: re : research and development charges...     0\n",
      "5724  Subject: re : receipts from visit  jim ,  than...     0\n",
      "5725  Subject: re : enron case study update  wow ! a...     0\n",
      "5726  Subject: re : interest  david ,  please , call...     0\n",
      "5727  Subject: news : aurora 5 . 2 update  aurora ve...     0\n",
      "\n",
      "[5728 rows x 2 columns]\n"
     ]
    }
   ],
   "source": [
    "# Step 2: Load the dfset\n",
    "df = pd.read_csv('emails.csv')\n",
    "print(df)"
   ]
  },
  {
   "cell_type": "code",
   "execution_count": 10,
   "metadata": {},
   "outputs": [
    {
     "name": "stdout",
     "output_type": "stream",
     "text": [
      "                                               Label  Email\n",
      "0  Subject: naturally irresistible your corporate...      1\n",
      "1  Subject: the stock trading gunslinger  fanny i...      1\n",
      "2  Subject: unbelievable new homes made easy  im ...      1\n",
      "3  Subject: 4 color printing special  request add...      1\n",
      "4  Subject: do not have money , get software cds ...      1\n"
     ]
    }
   ],
   "source": [
    "# Renaming columns for simplicity\n",
    "# Assuming the dfset is a CSV file with columns 'Email' and 'Label' ('spam' or 'ham')\n",
    "df.columns = ['Label', 'Email']\n",
    "print(df.head())\n"
   ]
  },
  {
   "cell_type": "code",
   "execution_count": 11,
   "metadata": {},
   "outputs": [
    {
     "name": "stdout",
     "output_type": "stream",
     "text": [
      "   Label  Email\n",
      "0    NaN      1\n",
      "1    NaN      1\n",
      "2    NaN      1\n",
      "3    NaN      1\n",
      "4    NaN      1\n"
     ]
    }
   ],
   "source": [
    "# Step 3: Encode the labels\n",
    "df['Label'] = df['Label'].map({'ham': 0, 'spam': 1})\n",
    "print(df.head())\n"
   ]
  },
  {
   "cell_type": "code",
   "execution_count": 12,
   "metadata": {},
   "outputs": [
    {
     "name": "stdout",
     "output_type": "stream",
     "text": [
      "Training samples: 4582, Testing samples: 1146\n"
     ]
    }
   ],
   "source": [
    "# Step 4: Split the df into training and testing sets\n",
    "X = df['Email']  # Features (email text)\n",
    "y = df['Label']  # Labels (0 or 1)\n",
    "\n",
    "X_train, X_test, y_train, y_test = train_test_split(X, y, test_size=0.2, random_state=42)\n",
    "\n",
    "print(f\"Training samples: {len(X_train)}, Testing samples: {len(X_test)}\")"
   ]
  },
  {
   "cell_type": "code",
   "execution_count": null,
   "metadata": {},
   "outputs": [],
   "source": []
  }
 ],
 "metadata": {
  "kernelspec": {
   "display_name": "Python 3",
   "language": "python",
   "name": "python3"
  },
  "language_info": {
   "codemirror_mode": {
    "name": "ipython",
    "version": 3
   },
   "file_extension": ".py",
   "mimetype": "text/x-python",
   "name": "python",
   "nbconvert_exporter": "python",
   "pygments_lexer": "ipython3",
   "version": "3.13.0"
  }
 },
 "nbformat": 4,
 "nbformat_minor": 2
}
