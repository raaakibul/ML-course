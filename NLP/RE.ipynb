{
 "cells": [
  {
   "cell_type": "code",
   "execution_count": 1,
   "metadata": {},
   "outputs": [],
   "source": [
    "import re"
   ]
  },
  {
   "cell_type": "code",
   "execution_count": 2,
   "metadata": {},
   "outputs": [
    {
     "name": "stdout",
     "output_type": "stream",
     "text": [
      "<re.Match object; span=(0, 7), match='Rakibul'>\n"
     ]
    }
   ],
   "source": [
    "pattern = \"Rakibul\"\n",
    "result = re.match(pattern, \"Rakibul Islam\")\n",
    "print(result)"
   ]
  },
  {
   "cell_type": "code",
   "execution_count": 3,
   "metadata": {},
   "outputs": [
    {
     "name": "stdout",
     "output_type": "stream",
     "text": [
      "Match\n"
     ]
    }
   ],
   "source": [
    "if result:\n",
    "    print(\"Match\")\n",
    "else:\n",
    "    print(\"not match\")"
   ]
  },
  {
   "cell_type": "code",
   "execution_count": 4,
   "metadata": {},
   "outputs": [],
   "source": [
    "pattern = \"Raki.bul\"\n",
    "result = re.match(pattern, \"Rakibul\")\n",
    "result"
   ]
  },
  {
   "cell_type": "code",
   "execution_count": 5,
   "metadata": {},
   "outputs": [
    {
     "name": "stdout",
     "output_type": "stream",
     "text": [
      "None\n"
     ]
    }
   ],
   "source": [
    "print(result)"
   ]
  },
  {
   "cell_type": "code",
   "execution_count": 6,
   "metadata": {},
   "outputs": [
    {
     "name": "stdout",
     "output_type": "stream",
     "text": [
      "Vowel found\n"
     ]
    }
   ],
   "source": [
    "pattern = \"[aeiou]\"\n",
    "if re.search(pattern, \"Rakibul\"):\n",
    "    print(\"Vowel found\")\n",
    "else:\n",
    "    print(\"Not found\")"
   ]
  },
  {
   "cell_type": "code",
   "execution_count": 7,
   "metadata": {},
   "outputs": [
    {
     "name": "stdout",
     "output_type": "stream",
     "text": [
      "Not found\n"
     ]
    }
   ],
   "source": [
    "pattern = \"[aeiou]\"\n",
    "if re.search(pattern, \"XYZ\"):\n",
    "    print(\"Vowel found\")\n",
    "else:\n",
    "    print(\"Not found\")"
   ]
  },
  {
   "cell_type": "code",
   "execution_count": 8,
   "metadata": {},
   "outputs": [
    {
     "name": "stdout",
     "output_type": "stream",
     "text": [
      "Digit found\n"
     ]
    }
   ],
   "source": [
    "pattern = \"[0-9]\"\n",
    "if re.search(pattern, \"123456\"):\n",
    "    print(\"Digit found\")\n",
    "else:\n",
    "    print(\"Not found\")"
   ]
  },
  {
   "cell_type": "code",
   "execution_count": 9,
   "metadata": {},
   "outputs": [
    {
     "name": "stdout",
     "output_type": "stream",
     "text": [
      "Digit found\n"
     ]
    }
   ],
   "source": [
    "if re.search(pattern, \"Rakibul14\"):\n",
    "    print(\"Digit found\")\n",
    "else:\n",
    "    print(\"Not found\")"
   ]
  },
  {
   "cell_type": "code",
   "execution_count": 10,
   "metadata": {},
   "outputs": [
    {
     "name": "stdout",
     "output_type": "stream",
     "text": [
      "Not found\n"
     ]
    }
   ],
   "source": [
    "if re.search(pattern, \"Rakibul\"):\n",
    "    print(\"Digit found\")\n",
    "else:\n",
    "    print(\"Not found\")"
   ]
  },
  {
   "cell_type": "code",
   "execution_count": 11,
   "metadata": {},
   "outputs": [
    {
     "name": "stdout",
     "output_type": "stream",
     "text": [
      "Match\n"
     ]
    }
   ],
   "source": [
    "# regular expression: Kleene Closure\n",
    "# \"*\" -- 0 or more\n",
    "# \"+\" -- 1 or more\n",
    "# New (s)* = new news newss\n",
    "pattern = \"New(s)*\"\n",
    "if re.match(pattern, \"New\"):\n",
    "    print(\"Match\")\n",
    "else:\n",
    "    print(\"Not match\")"
   ]
  },
  {
   "cell_type": "code",
   "execution_count": 12,
   "metadata": {},
   "outputs": [
    {
     "name": "stdout",
     "output_type": "stream",
     "text": [
      "Match\n"
     ]
    }
   ],
   "source": [
    "pattern = \"New(s)*\"\n",
    "if re.match(pattern, \"Newssss\"):\n",
    "    print(\"Match\")\n",
    "else:\n",
    "    print(\"Not match\")"
   ]
  },
  {
   "cell_type": "code",
   "execution_count": 13,
   "metadata": {},
   "outputs": [],
   "source": [
    "# pipe symbol\n",
    "# Go(es|ing): goes, going\n"
   ]
  },
  {
   "cell_type": "code",
   "execution_count": 14,
   "metadata": {},
   "outputs": [
    {
     "name": "stdout",
     "output_type": "stream",
     "text": [
      "Match\n"
     ]
    }
   ],
   "source": [
    "pattern = \"Go(es|ing)\"\n",
    "text = \"Goes\"\n",
    "if re.match(pattern, text):\n",
    "    print(\"Match\")\n",
    "else:\n",
    "    print(\"Not match\")"
   ]
  },
  {
   "cell_type": "code",
   "execution_count": 15,
   "metadata": {},
   "outputs": [
    {
     "name": "stdout",
     "output_type": "stream",
     "text": [
      "Match\n"
     ]
    }
   ],
   "source": [
    "pattern = \"Go(es|ing)\"\n",
    "text = \"Going\"\n",
    "if re.match(pattern, text):\n",
    "    print(\"Match\")\n",
    "else:\n",
    "    print(\"Not match\")"
   ]
  },
  {
   "cell_type": "code",
   "execution_count": 16,
   "metadata": {},
   "outputs": [
    {
     "name": "stdout",
     "output_type": "stream",
     "text": [
      "Not match\n"
     ]
    }
   ],
   "source": [
    "pattern = \"Go(es|ing)\"\n",
    "text = \"Go\"\n",
    "if re.match(pattern, text):\n",
    "    print(\"Match\")\n",
    "else:\n",
    "    print(\"Not match\")"
   ]
  },
  {
   "cell_type": "code",
   "execution_count": 17,
   "metadata": {},
   "outputs": [
    {
     "name": "stdout",
     "output_type": "stream",
     "text": [
      "Match\n"
     ]
    }
   ],
   "source": [
    "# Multiple string\n",
    "pattern = \"S(a|e|i|o|u)ng\"\n",
    "text = \"Sing\"\n",
    "if re.match(pattern, text):\n",
    "    print(\"Match\")\n",
    "else:\n",
    "    print(\"Not match\")"
   ]
  },
  {
   "cell_type": "code",
   "execution_count": 18,
   "metadata": {},
   "outputs": [
    {
     "name": "stdout",
     "output_type": "stream",
     "text": [
      "Match\n"
     ]
    }
   ],
   "source": [
    "pattern = \"S(a|e|i|o|u)ng\"\n",
    "text = \"Sung\"\n",
    "if re.match(pattern, text):\n",
    "    print(\"Match\")\n",
    "else:\n",
    "    print(\"Not match\")"
   ]
  },
  {
   "cell_type": "code",
   "execution_count": 19,
   "metadata": {},
   "outputs": [
    {
     "name": "stdout",
     "output_type": "stream",
     "text": [
      "Not match\n"
     ]
    }
   ],
   "source": [
    "pattern = \"S(a|e|i|o|u)ng\"\n",
    "text = \"S\"\n",
    "if re.match(pattern, text):\n",
    "    print(\"Match\")\n",
    "else:\n",
    "    print(\"Not match\")"
   ]
  },
  {
   "cell_type": "code",
   "execution_count": 20,
   "metadata": {},
   "outputs": [
    {
     "name": "stdout",
     "output_type": "stream",
     "text": [
      "Match\n"
     ]
    }
   ],
   "source": [
    "pattern = \"S(a|e|i|o|u)*ng\"\n",
    "text = \"Sng\"\n",
    "if re.match(pattern, text):\n",
    "    print(\"Match\")\n",
    "else:\n",
    "    print(\"Not match\")"
   ]
  },
  {
   "cell_type": "code",
   "execution_count": 21,
   "metadata": {},
   "outputs": [
    {
     "name": "stdout",
     "output_type": "stream",
     "text": [
      "Match\n"
     ]
    }
   ],
   "source": [
    "pattern = \"(Rakibul|Islam)\"\n",
    "text = \"Rakibul\"\n",
    "if re.match(pattern, text):\n",
    "    print(\"Match\")\n",
    "else:\n",
    "    print(\"Not match\")"
   ]
  },
  {
   "cell_type": "code",
   "execution_count": 22,
   "metadata": {},
   "outputs": [
    {
     "name": "stdout",
     "output_type": "stream",
     "text": [
      "Match\n"
     ]
    }
   ],
   "source": [
    "pattern = \"(Rakibul|Islam)\"\n",
    "text = \"RakibulIslam\"\n",
    "if re.match(pattern, text):\n",
    "    print(\"Match\")\n",
    "else:\n",
    "    print(\"Not match\")"
   ]
  },
  {
   "cell_type": "code",
   "execution_count": 23,
   "metadata": {},
   "outputs": [
    {
     "name": "stdout",
     "output_type": "stream",
     "text": [
      "Not match\n"
     ]
    }
   ],
   "source": [
    "pattern = \"(Rakibul|Islam)\"\n",
    "text = \"Rak\"\n",
    "if re.match(pattern, text):\n",
    "    print(\"Match\")\n",
    "else:\n",
    "    print(\"Not match\")"
   ]
  }
 ],
 "metadata": {
  "kernelspec": {
   "display_name": "Python 3",
   "language": "python",
   "name": "python3"
  },
  "language_info": {
   "codemirror_mode": {
    "name": "ipython",
    "version": 3
   },
   "file_extension": ".py",
   "mimetype": "text/x-python",
   "name": "python",
   "nbconvert_exporter": "python",
   "pygments_lexer": "ipython3",
   "version": "3.13.0"
  }
 },
 "nbformat": 4,
 "nbformat_minor": 2
}
