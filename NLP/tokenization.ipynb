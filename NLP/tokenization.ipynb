{
 "cells": [
  {
   "cell_type": "code",
   "execution_count": 2,
   "metadata": {},
   "outputs": [],
   "source": [
    "import nltk\n",
    "from nltk.tokenize import word_tokenize, sent_tokenize"
   ]
  },
  {
   "cell_type": "code",
   "execution_count": 3,
   "metadata": {},
   "outputs": [],
   "source": [
    "text = \"Mary had a little lamb. Her fleece was white as snow\""
   ]
  },
  {
   "cell_type": "code",
   "execution_count": 8,
   "metadata": {},
   "outputs": [
    {
     "name": "stdout",
     "output_type": "stream",
     "text": [
      "Word Tokens: ['Mary', 'had', 'a', 'little', 'lamb', '.', 'Her', 'fleece', 'was', 'white', 'as', 'snow']\n"
     ]
    }
   ],
   "source": [
    "words = word_tokenize(text)\n",
    "print(\"Word Tokens:\", words)"
   ]
  },
  {
   "cell_type": "code",
   "execution_count": 9,
   "metadata": {},
   "outputs": [
    {
     "name": "stdout",
     "output_type": "stream",
     "text": [
      "Sentence Tokens: ['Mary had a little lamb.', 'Her fleece was white as snow']\n"
     ]
    }
   ],
   "source": [
    "sentences = sent_tokenize(text)\n",
    "print(\"Sentence Tokens:\",sentences)"
   ]
  },
  {
   "cell_type": "code",
   "execution_count": 10,
   "metadata": {},
   "outputs": [
    {
     "name": "stdout",
     "output_type": "stream",
     "text": [
      "['Machine', 'learning', 'is', 'amazing!']\n"
     ]
    }
   ],
   "source": [
    "text = \"Machine learning is amazing!\"\n",
    "tokens = text.split()  # Splits at spaces\n",
    "print(tokens)\n"
   ]
  },
  {
   "cell_type": "code",
   "execution_count": 12,
   "metadata": {},
   "outputs": [
    {
     "name": "stdout",
     "output_type": "stream",
     "text": [
      "['H', 'e', 'l', 'l', 'o']\n"
     ]
    }
   ],
   "source": [
    "text = \"Hello\"\n",
    "tokens = list(text)\n",
    "print(tokens)\n",
    "\n"
   ]
  },
  {
   "cell_type": "code",
   "execution_count": 14,
   "metadata": {},
   "outputs": [
    {
     "name": "stdout",
     "output_type": "stream",
     "text": [
      "Defaulting to user installation because normal site-packages is not writeableNote: you may need to restart the kernel to use updated packages.\n",
      "\n",
      "Collecting transformers\n",
      "  Downloading transformers-4.48.1-py3-none-any.whl.metadata (44 kB)\n",
      "Collecting filelock (from transformers)\n",
      "  Downloading filelock-3.17.0-py3-none-any.whl.metadata (2.9 kB)\n",
      "Collecting huggingface-hub<1.0,>=0.24.0 (from transformers)\n",
      "  Downloading huggingface_hub-0.28.0-py3-none-any.whl.metadata (13 kB)\n",
      "Requirement already satisfied: numpy>=1.17 in c:\\program files\\python313\\lib\\site-packages (from transformers) (2.1.2)\n",
      "Requirement already satisfied: packaging>=20.0 in c:\\program files\\python313\\lib\\site-packages (from transformers) (24.1)\n",
      "Collecting pyyaml>=5.1 (from transformers)\n",
      "  Downloading PyYAML-6.0.2-cp313-cp313-win_amd64.whl.metadata (2.1 kB)\n",
      "Requirement already satisfied: regex!=2019.12.17 in c:\\users\\h\\appdata\\roaming\\python\\python313\\site-packages (from transformers) (2024.11.6)\n",
      "Requirement already satisfied: requests in c:\\users\\h\\appdata\\roaming\\python\\python313\\site-packages (from transformers) (2.32.3)\n",
      "Collecting tokenizers<0.22,>=0.21 (from transformers)\n",
      "  Using cached tokenizers-0.21.0-cp39-abi3-win_amd64.whl.metadata (6.9 kB)\n",
      "Collecting safetensors>=0.4.1 (from transformers)\n",
      "  Downloading safetensors-0.5.2-cp38-abi3-win_amd64.whl.metadata (3.9 kB)\n",
      "Requirement already satisfied: tqdm>=4.27 in c:\\users\\h\\appdata\\roaming\\python\\python313\\site-packages (from transformers) (4.67.1)\n",
      "Collecting fsspec>=2023.5.0 (from huggingface-hub<1.0,>=0.24.0->transformers)\n",
      "  Using cached fsspec-2024.12.0-py3-none-any.whl.metadata (11 kB)\n",
      "Collecting typing-extensions>=3.7.4.3 (from huggingface-hub<1.0,>=0.24.0->transformers)\n",
      "  Using cached typing_extensions-4.12.2-py3-none-any.whl.metadata (3.0 kB)\n",
      "Requirement already satisfied: colorama in c:\\users\\h\\appdata\\roaming\\python\\python313\\site-packages (from tqdm>=4.27->transformers) (0.4.6)\n",
      "Requirement already satisfied: charset-normalizer<4,>=2 in c:\\users\\h\\appdata\\roaming\\python\\python313\\site-packages (from requests->transformers) (3.4.1)\n",
      "Requirement already satisfied: idna<4,>=2.5 in c:\\users\\h\\appdata\\roaming\\python\\python313\\site-packages (from requests->transformers) (3.10)\n",
      "Requirement already satisfied: urllib3<3,>=1.21.1 in c:\\users\\h\\appdata\\roaming\\python\\python313\\site-packages (from requests->transformers) (2.3.0)\n",
      "Requirement already satisfied: certifi>=2017.4.17 in c:\\users\\h\\appdata\\roaming\\python\\python313\\site-packages (from requests->transformers) (2024.12.14)\n",
      "Downloading transformers-4.48.1-py3-none-any.whl (9.7 MB)\n",
      "   ---------------------------------------- 0.0/9.7 MB ? eta -:--:--\n",
      "   ---------------------------------------- 0.0/9.7 MB ? eta -:--:--\n",
      "   -- ------------------------------------- 0.5/9.7 MB 2.1 MB/s eta 0:00:05\n",
      "   ---- ----------------------------------- 1.0/9.7 MB 2.7 MB/s eta 0:00:04\n",
      "   ------- -------------------------------- 1.8/9.7 MB 3.1 MB/s eta 0:00:03\n",
      "   ---------- ----------------------------- 2.6/9.7 MB 3.2 MB/s eta 0:00:03\n",
      "   -------------- ------------------------- 3.4/9.7 MB 3.2 MB/s eta 0:00:02\n",
      "   ---------------- ----------------------- 3.9/9.7 MB 3.2 MB/s eta 0:00:02\n",
      "   ------------------- -------------------- 4.7/9.7 MB 3.2 MB/s eta 0:00:02\n",
      "   --------------------- ------------------ 5.2/9.7 MB 3.2 MB/s eta 0:00:02\n",
      "   ------------------------ --------------- 6.0/9.7 MB 3.2 MB/s eta 0:00:02\n",
      "   --------------------------- ------------ 6.6/9.7 MB 3.2 MB/s eta 0:00:01\n",
      "   ------------------------------ --------- 7.3/9.7 MB 3.2 MB/s eta 0:00:01\n",
      "   -------------------------------- ------- 7.9/9.7 MB 3.2 MB/s eta 0:00:01\n",
      "   ----------------------------------- ---- 8.7/9.7 MB 3.2 MB/s eta 0:00:01\n",
      "   ------------------------------------- -- 9.2/9.7 MB 3.2 MB/s eta 0:00:01\n",
      "   ---------------------------------------- 9.7/9.7 MB 3.1 MB/s eta 0:00:00\n",
      "Downloading huggingface_hub-0.28.0-py3-none-any.whl (464 kB)\n",
      "Downloading PyYAML-6.0.2-cp313-cp313-win_amd64.whl (156 kB)\n",
      "Downloading safetensors-0.5.2-cp38-abi3-win_amd64.whl (303 kB)\n",
      "Using cached tokenizers-0.21.0-cp39-abi3-win_amd64.whl (2.4 MB)\n",
      "Downloading filelock-3.17.0-py3-none-any.whl (16 kB)\n",
      "Using cached fsspec-2024.12.0-py3-none-any.whl (183 kB)\n",
      "Using cached typing_extensions-4.12.2-py3-none-any.whl (37 kB)\n",
      "Installing collected packages: typing-extensions, safetensors, pyyaml, fsspec, filelock, huggingface-hub, tokenizers, transformers\n",
      "Successfully installed filelock-3.17.0 fsspec-2024.12.0 huggingface-hub-0.28.0 pyyaml-6.0.2 safetensors-0.5.2 tokenizers-0.21.0 transformers-4.48.1 typing-extensions-4.12.2\n"
     ]
    },
    {
     "name": "stderr",
     "output_type": "stream",
     "text": [
      "\n",
      "[notice] A new release of pip is available: 24.2 -> 24.3.1\n",
      "[notice] To update, run: python.exe -m pip install --upgrade pip\n",
      "C:\\Users\\H\\AppData\\Roaming\\Python\\Python313\\site-packages\\tqdm\\auto.py:21: TqdmWarning: IProgress not found. Please update jupyter and ipywidgets. See https://ipywidgets.readthedocs.io/en/stable/user_install.html\n",
      "  from .autonotebook import tqdm as notebook_tqdm\n",
      "None of PyTorch, TensorFlow >= 2.0, or Flax have been found. Models won't be available and only tokenizers, configuration and file/data utilities can be used.\n",
      "C:\\Users\\H\\AppData\\Roaming\\Python\\Python313\\site-packages\\huggingface_hub\\file_download.py:140: UserWarning: `huggingface_hub` cache-system uses symlinks by default to efficiently store duplicated files but your machine does not support them in C:\\Users\\H\\.cache\\huggingface\\hub\\models--bert-base-uncased. Caching files will still work but in a degraded version that might require more space on your disk. This warning can be disabled by setting the `HF_HUB_DISABLE_SYMLINKS_WARNING` environment variable. For more details, see https://huggingface.co/docs/huggingface_hub/how-to-cache#limitations.\n",
      "To support symlinks on Windows, you either need to activate Developer Mode or to run Python as an administrator. In order to activate developer mode, see this article: https://docs.microsoft.com/en-us/windows/apps/get-started/enable-your-device-for-development\n",
      "  warnings.warn(message)\n"
     ]
    },
    {
     "name": "stdout",
     "output_type": "stream",
     "text": [
      "['token', '##ization', 'is', 'important', '!']\n"
     ]
    }
   ],
   "source": [
    "%pip install transformers\n",
    "from transformers import BertTokenizer\n",
    "\n",
    "tokenizer = BertTokenizer.from_pretrained(\"bert-base-uncased\")\n",
    "tokens = tokenizer.tokenize(\"Tokenization is important!\")\n",
    "print(tokens)\n"
   ]
  },
  {
   "cell_type": "code",
   "execution_count": 15,
   "metadata": {},
   "outputs": [
    {
     "name": "stdout",
     "output_type": "stream",
     "text": [
      "['Follow', '@', 'user123', '!', '#', 'AI']\n"
     ]
    }
   ],
   "source": [
    "import re\n",
    "\n",
    "text = \"Follow @user123! #AI\"\n",
    "tokens = re.findall(r'\\w+|[^\\w\\s]', text)\n",
    "print(tokens)\n"
   ]
  },
  {
   "cell_type": "code",
   "execution_count": null,
   "metadata": {},
   "outputs": [
    {
     "name": "stdout",
     "output_type": "stream",
     "text": [
      "Defaulting to user installation because normal site-packages is not writeableNote: you may need to restart the kernel to use updated packages.\n",
      "\n",
      "Collecting datasets\n",
      "  Downloading datasets-3.2.0-py3-none-any.whl.metadata (20 kB)\n",
      "Requirement already satisfied: filelock in c:\\users\\h\\appdata\\roaming\\python\\python313\\site-packages (from datasets) (3.17.0)\n",
      "Requirement already satisfied: numpy>=1.17 in c:\\program files\\python313\\lib\\site-packages (from datasets) (2.1.2)\n",
      "Collecting pyarrow>=15.0.0 (from datasets)\n",
      "  Downloading pyarrow-19.0.0-cp313-cp313-win_amd64.whl.metadata (3.4 kB)\n",
      "Collecting dill<0.3.9,>=0.3.0 (from datasets)\n",
      "  Downloading dill-0.3.8-py3-none-any.whl.metadata (10 kB)\n",
      "Requirement already satisfied: pandas in c:\\program files\\python313\\lib\\site-packages (from datasets) (2.2.3)\n",
      "Requirement already satisfied: requests>=2.32.2 in c:\\users\\h\\appdata\\roaming\\python\\python313\\site-packages (from datasets) (2.32.3)\n",
      "Requirement already satisfied: tqdm>=4.66.3 in c:\\users\\h\\appdata\\roaming\\python\\python313\\site-packages (from datasets) (4.67.1)\n",
      "Collecting xxhash (from datasets)\n",
      "  Downloading xxhash-3.5.0-cp313-cp313-win_amd64.whl.metadata (13 kB)\n",
      "Collecting multiprocess<0.70.17 (from datasets)\n",
      "  Downloading multiprocess-0.70.16-py312-none-any.whl.metadata (7.2 kB)\n",
      "Collecting fsspec<=2024.9.0,>=2023.1.0 (from fsspec[http]<=2024.9.0,>=2023.1.0->datasets)\n",
      "  Downloading fsspec-2024.9.0-py3-none-any.whl.metadata (11 kB)\n",
      "Collecting aiohttp (from datasets)\n",
      "  Downloading aiohttp-3.11.11-cp313-cp313-win_amd64.whl.metadata (8.0 kB)\n",
      "Requirement already satisfied: huggingface-hub>=0.23.0 in c:\\users\\h\\appdata\\roaming\\python\\python313\\site-packages (from datasets) (0.28.0)\n",
      "Requirement already satisfied: packaging in c:\\program files\\python313\\lib\\site-packages (from datasets) (24.1)\n",
      "Requirement already satisfied: pyyaml>=5.1 in c:\\users\\h\\appdata\\roaming\\python\\python313\\site-packages (from datasets) (6.0.2)\n",
      "Collecting aiohappyeyeballs>=2.3.0 (from aiohttp->datasets)\n",
      "  Downloading aiohappyeyeballs-2.4.4-py3-none-any.whl.metadata (6.1 kB)\n",
      "Collecting aiosignal>=1.1.2 (from aiohttp->datasets)\n",
      "  Downloading aiosignal-1.3.2-py2.py3-none-any.whl.metadata (3.8 kB)\n",
      "Collecting attrs>=17.3.0 (from aiohttp->datasets)\n",
      "  Downloading attrs-25.1.0-py3-none-any.whl.metadata (10 kB)\n",
      "Collecting frozenlist>=1.1.1 (from aiohttp->datasets)\n",
      "  Downloading frozenlist-1.5.0-cp313-cp313-win_amd64.whl.metadata (14 kB)\n",
      "Collecting multidict<7.0,>=4.5 (from aiohttp->datasets)\n",
      "  Downloading multidict-6.1.0-cp313-cp313-win_amd64.whl.metadata (5.1 kB)\n",
      "Collecting propcache>=0.2.0 (from aiohttp->datasets)\n",
      "  Downloading propcache-0.2.1-cp313-cp313-win_amd64.whl.metadata (9.5 kB)\n",
      "Collecting yarl<2.0,>=1.17.0 (from aiohttp->datasets)\n",
      "  Downloading yarl-1.18.3-cp313-cp313-win_amd64.whl.metadata (71 kB)\n",
      "Requirement already satisfied: typing-extensions>=3.7.4.3 in c:\\users\\h\\appdata\\roaming\\python\\python313\\site-packages (from huggingface-hub>=0.23.0->datasets) (4.12.2)\n",
      "Requirement already satisfied: charset-normalizer<4,>=2 in c:\\users\\h\\appdata\\roaming\\python\\python313\\site-packages (from requests>=2.32.2->datasets) (3.4.1)\n",
      "Requirement already satisfied: idna<4,>=2.5 in c:\\users\\h\\appdata\\roaming\\python\\python313\\site-packages (from requests>=2.32.2->datasets) (3.10)\n",
      "Requirement already satisfied: urllib3<3,>=1.21.1 in c:\\users\\h\\appdata\\roaming\\python\\python313\\site-packages (from requests>=2.32.2->datasets) (2.3.0)\n",
      "Requirement already satisfied: certifi>=2017.4.17 in c:\\users\\h\\appdata\\roaming\\python\\python313\\site-packages (from requests>=2.32.2->datasets) (2024.12.14)\n",
      "Requirement already satisfied: colorama in c:\\users\\h\\appdata\\roaming\\python\\python313\\site-packages (from tqdm>=4.66.3->datasets) (0.4.6)\n",
      "Requirement already satisfied: python-dateutil>=2.8.2 in c:\\program files\\python313\\lib\\site-packages (from pandas->datasets) (2.9.0.post0)\n",
      "Requirement already satisfied: pytz>=2020.1 in c:\\program files\\python313\\lib\\site-packages (from pandas->datasets) (2024.2)\n",
      "Requirement already satisfied: tzdata>=2022.7 in c:\\program files\\python313\\lib\\site-packages (from pandas->datasets) (2024.2)\n",
      "Requirement already satisfied: six>=1.5 in c:\\program files\\python313\\lib\\site-packages (from python-dateutil>=2.8.2->pandas->datasets) (1.16.0)\n",
      "Downloading datasets-3.2.0-py3-none-any.whl (480 kB)\n",
      "Downloading dill-0.3.8-py3-none-any.whl (116 kB)\n",
      "Downloading fsspec-2024.9.0-py3-none-any.whl (179 kB)\n",
      "Downloading aiohttp-3.11.11-cp313-cp313-win_amd64.whl (436 kB)\n",
      "Downloading multiprocess-0.70.16-py312-none-any.whl (146 kB)\n",
      "Downloading pyarrow-19.0.0-cp313-cp313-win_amd64.whl (25.2 MB)\n",
      "   ---------------------------------------- 0.0/25.2 MB ? eta -:--:--\n",
      "   ---------------------------------------- 0.0/25.2 MB ? eta -:--:--\n",
      "   ---------------------------------------- 0.3/25.2 MB ? eta -:--:--\n",
      "   ---------------------------------------- 0.3/25.2 MB ? eta -:--:--\n",
      "    --------------------------------------- 0.5/25.2 MB 608.1 kB/s eta 0:00:41\n",
      "   - -------------------------------------- 0.8/25.2 MB 784.8 kB/s eta 0:00:32\n",
      "   - -------------------------------------- 1.0/25.2 MB 879.0 kB/s eta 0:00:28\n",
      "   -- ------------------------------------- 1.3/25.2 MB 891.5 kB/s eta 0:00:27\n",
      "   -- ------------------------------------- 1.6/25.2 MB 918.8 kB/s eta 0:00:26\n",
      "   -- ------------------------------------- 1.6/25.2 MB 918.8 kB/s eta 0:00:26\n",
      "   -- ------------------------------------- 1.8/25.2 MB 948.3 kB/s eta 0:00:25\n",
      "   --- ------------------------------------ 2.1/25.2 MB 942.8 kB/s eta 0:00:25\n",
      "   --- ------------------------------------ 2.4/25.2 MB 930.9 kB/s eta 0:00:25\n",
      "   --- ------------------------------------ 2.4/25.2 MB 930.9 kB/s eta 0:00:25\n",
      "   ---- ----------------------------------- 2.6/25.2 MB 924.4 kB/s eta 0:00:25\n",
      "   ---- ----------------------------------- 2.9/25.2 MB 934.6 kB/s eta 0:00:24\n",
      "   ---- ----------------------------------- 3.1/25.2 MB 945.5 kB/s eta 0:00:24\n",
      "   ---- ----------------------------------- 3.1/25.2 MB 945.5 kB/s eta 0:00:24\n",
      "   ----- ---------------------------------- 3.4/25.2 MB 922.6 kB/s eta 0:00:24\n",
      "   ----- ---------------------------------- 3.4/25.2 MB 922.6 kB/s eta 0:00:24\n",
      "   ----- ---------------------------------- 3.7/25.2 MB 896.2 kB/s eta 0:00:25\n",
      "   ----- ---------------------------------- 3.7/25.2 MB 896.2 kB/s eta 0:00:25\n",
      "   ------ --------------------------------- 3.9/25.2 MB 854.5 kB/s eta 0:00:25\n",
      "   ------ --------------------------------- 4.2/25.2 MB 861.9 kB/s eta 0:00:25\n",
      "   ------- -------------------------------- 4.5/25.2 MB 886.7 kB/s eta 0:00:24\n",
      "   ------- -------------------------------- 4.5/25.2 MB 886.7 kB/s eta 0:00:24\n",
      "   ------- -------------------------------- 4.5/25.2 MB 886.7 kB/s eta 0:00:24\n",
      "   ------- -------------------------------- 4.7/25.2 MB 816.4 kB/s eta 0:00:26\n",
      "   ------- -------------------------------- 4.7/25.2 MB 816.4 kB/s eta 0:00:26\n",
      "   ------- -------------------------------- 5.0/25.2 MB 828.1 kB/s eta 0:00:25\n",
      "   -------- ------------------------------- 5.2/25.2 MB 842.6 kB/s eta 0:00:24\n",
      "   -------- ------------------------------- 5.5/25.2 MB 851.2 kB/s eta 0:00:24\n",
      "   --------- ------------------------------ 5.8/25.2 MB 854.6 kB/s eta 0:00:23\n",
      "   --------- ------------------------------ 6.0/25.2 MB 859.8 kB/s eta 0:00:23\n",
      "   --------- ------------------------------ 6.0/25.2 MB 859.8 kB/s eta 0:00:23\n",
      "   --------- ------------------------------ 6.3/25.2 MB 868.0 kB/s eta 0:00:22\n",
      "   --------- ------------------------------ 6.3/25.2 MB 868.0 kB/s eta 0:00:22\n",
      "   ---------- ----------------------------- 6.6/25.2 MB 855.1 kB/s eta 0:00:22\n",
      "   ---------- ----------------------------- 6.6/25.2 MB 855.1 kB/s eta 0:00:22\n",
      "   ---------- ----------------------------- 6.8/25.2 MB 837.8 kB/s eta 0:00:22\n",
      "   ---------- ----------------------------- 6.8/25.2 MB 837.8 kB/s eta 0:00:22\n",
      "   ----------- ---------------------------- 7.1/25.2 MB 826.2 kB/s eta 0:00:22\n",
      "   ----------- ---------------------------- 7.3/25.2 MB 830.7 kB/s eta 0:00:22\n",
      "   ------------ --------------------------- 7.6/25.2 MB 835.2 kB/s eta 0:00:22\n",
      "   ------------ --------------------------- 7.6/25.2 MB 835.2 kB/s eta 0:00:22\n",
      "   ------------ --------------------------- 7.9/25.2 MB 839.0 kB/s eta 0:00:21\n",
      "   ------------ --------------------------- 8.1/25.2 MB 842.9 kB/s eta 0:00:21\n",
      "   ------------ --------------------------- 8.1/25.2 MB 842.9 kB/s eta 0:00:21\n",
      "   ------------- -------------------------- 8.4/25.2 MB 840.0 kB/s eta 0:00:21\n",
      "   ------------- -------------------------- 8.7/25.2 MB 842.4 kB/s eta 0:00:20\n",
      "   ------------- -------------------------- 8.7/25.2 MB 842.4 kB/s eta 0:00:20\n",
      "   -------------- ------------------------- 8.9/25.2 MB 833.6 kB/s eta 0:00:20\n",
      "   -------------- ------------------------- 8.9/25.2 MB 833.6 kB/s eta 0:00:20\n",
      "   -------------- ------------------------- 9.2/25.2 MB 828.8 kB/s eta 0:00:20\n",
      "   -------------- ------------------------- 9.2/25.2 MB 828.8 kB/s eta 0:00:20\n",
      "   -------------- ------------------------- 9.4/25.2 MB 813.3 kB/s eta 0:00:20\n",
      "   -------------- ------------------------- 9.4/25.2 MB 813.3 kB/s eta 0:00:20\n",
      "   --------------- ------------------------ 9.7/25.2 MB 801.6 kB/s eta 0:00:20\n",
      "   --------------- ------------------------ 9.7/25.2 MB 801.6 kB/s eta 0:00:20\n",
      "   --------------- ------------------------ 9.7/25.2 MB 801.6 kB/s eta 0:00:20\n",
      "   --------------- ------------------------ 10.0/25.2 MB 791.4 kB/s eta 0:00:20\n",
      "   ---------------- ----------------------- 10.2/25.2 MB 794.8 kB/s eta 0:00:19\n",
      "   ---------------- ----------------------- 10.2/25.2 MB 794.8 kB/s eta 0:00:19\n",
      "   ---------------- ----------------------- 10.5/25.2 MB 793.3 kB/s eta 0:00:19\n",
      "   ---------------- ----------------------- 10.5/25.2 MB 793.3 kB/s eta 0:00:19\n",
      "   ----------------- ---------------------- 10.7/25.2 MB 789.6 kB/s eta 0:00:19\n",
      "   ----------------- ---------------------- 11.0/25.2 MB 791.2 kB/s eta 0:00:18\n",
      "   ----------------- ---------------------- 11.3/25.2 MB 799.3 kB/s eta 0:00:18\n",
      "   ------------------ --------------------- 11.5/25.2 MB 799.4 kB/s eta 0:00:18\n",
      "   ------------------ --------------------- 11.5/25.2 MB 799.4 kB/s eta 0:00:18\n",
      "   ------------------ --------------------- 11.8/25.2 MB 794.2 kB/s eta 0:00:17\n",
      "   ------------------ --------------------- 11.8/25.2 MB 794.2 kB/s eta 0:00:17\n",
      "   ------------------- -------------------- 12.1/25.2 MB 795.1 kB/s eta 0:00:17\n",
      "   ------------------- -------------------- 12.3/25.2 MB 798.5 kB/s eta 0:00:17\n",
      "   ------------------- -------------------- 12.3/25.2 MB 798.5 kB/s eta 0:00:17\n",
      "   ------------------- -------------------- 12.6/25.2 MB 793.9 kB/s eta 0:00:16\n",
      "   ------------------- -------------------- 12.6/25.2 MB 793.9 kB/s eta 0:00:16\n",
      "   ------------------- -------------------- 12.6/25.2 MB 793.9 kB/s eta 0:00:16\n",
      "   -------------------- ------------------- 12.8/25.2 MB 785.1 kB/s eta 0:00:16\n",
      "   -------------------- ------------------- 13.1/25.2 MB 783.2 kB/s eta 0:00:16\n",
      "   -------------------- ------------------- 13.1/25.2 MB 783.2 kB/s eta 0:00:16\n",
      "   --------------------- ------------------ 13.4/25.2 MB 779.7 kB/s eta 0:00:16\n",
      "   --------------------- ------------------ 13.6/25.2 MB 784.2 kB/s eta 0:00:15\n",
      "   --------------------- ------------------ 13.6/25.2 MB 784.2 kB/s eta 0:00:15\n",
      "   ---------------------- ----------------- 13.9/25.2 MB 788.1 kB/s eta 0:00:15\n",
      "   ---------------------- ----------------- 14.2/25.2 MB 792.1 kB/s eta 0:00:14\n",
      "   ---------------------- ----------------- 14.2/25.2 MB 792.1 kB/s eta 0:00:14\n",
      "   ---------------------- ----------------- 14.4/25.2 MB 787.6 kB/s eta 0:00:14\n",
      "   ---------------------- ----------------- 14.4/25.2 MB 787.6 kB/s eta 0:00:14\n",
      "   ----------------------- ---------------- 14.7/25.2 MB 786.8 kB/s eta 0:00:14\n",
      "   ----------------------- ---------------- 14.9/25.2 MB 787.1 kB/s eta 0:00:14\n",
      "   ------------------------ --------------- 15.2/25.2 MB 789.4 kB/s eta 0:00:13\n",
      "   ------------------------ --------------- 15.5/25.2 MB 795.5 kB/s eta 0:00:13\n",
      "   ------------------------ --------------- 15.7/25.2 MB 801.2 kB/s eta 0:00:12\n",
      "   ------------------------- -------------- 16.0/25.2 MB 807.8 kB/s eta 0:00:12\n",
      "   ------------------------- -------------- 16.3/25.2 MB 814.2 kB/s eta 0:00:12\n",
      "   -------------------------- ------------- 16.5/25.2 MB 818.3 kB/s eta 0:00:11\n",
      "   -------------------------- ------------- 16.8/25.2 MB 823.2 kB/s eta 0:00:11\n",
      "   --------------------------- ------------ 17.3/25.2 MB 833.0 kB/s eta 0:00:10\n",
      "   --------------------------- ------------ 17.6/25.2 MB 838.7 kB/s eta 0:00:10\n",
      "   ---------------------------- ----------- 17.8/25.2 MB 844.4 kB/s eta 0:00:09\n",
      "   ---------------------------- ----------- 18.1/25.2 MB 848.6 kB/s eta 0:00:09\n",
      "   ----------------------------- ---------- 18.4/25.2 MB 850.9 kB/s eta 0:00:09\n",
      "   ----------------------------- ---------- 18.4/25.2 MB 850.9 kB/s eta 0:00:09\n",
      "   ----------------------------- ---------- 18.6/25.2 MB 848.6 kB/s eta 0:00:08\n",
      "   ----------------------------- ---------- 18.9/25.2 MB 851.7 kB/s eta 0:00:08\n",
      "   ------------------------------ --------- 19.1/25.2 MB 854.8 kB/s eta 0:00:08\n",
      "   ------------------------------ --------- 19.4/25.2 MB 860.6 kB/s eta 0:00:07\n",
      "   ------------------------------- -------- 19.7/25.2 MB 864.2 kB/s eta 0:00:07\n",
      "   ------------------------------- -------- 20.2/25.2 MB 874.5 kB/s eta 0:00:06\n",
      "   ------------------------------- -------- 20.2/25.2 MB 874.5 kB/s eta 0:00:06\n",
      "   -------------------------------- ------- 20.4/25.2 MB 876.7 kB/s eta 0:00:06\n",
      "   -------------------------------- ------- 20.7/25.2 MB 879.6 kB/s eta 0:00:06\n",
      "   --------------------------------- ------ 21.2/25.2 MB 889.6 kB/s eta 0:00:05\n",
      "   ---------------------------------- ----- 21.5/25.2 MB 891.5 kB/s eta 0:00:05\n",
      "   ---------------------------------- ----- 21.8/25.2 MB 894.1 kB/s eta 0:00:04\n",
      "   ---------------------------------- ----- 21.8/25.2 MB 894.1 kB/s eta 0:00:04\n",
      "   ---------------------------------- ----- 21.8/25.2 MB 894.1 kB/s eta 0:00:04\n",
      "   ---------------------------------- ----- 22.0/25.2 MB 886.5 kB/s eta 0:00:04\n",
      "   ---------------------------------- ----- 22.0/25.2 MB 886.5 kB/s eta 0:00:04\n",
      "   ----------------------------------- ---- 22.3/25.2 MB 876.3 kB/s eta 0:00:04\n",
      "   ----------------------------------- ---- 22.3/25.2 MB 876.3 kB/s eta 0:00:04\n",
      "   ----------------------------------- ---- 22.5/25.2 MB 877.8 kB/s eta 0:00:04\n",
      "   ------------------------------------ --- 22.8/25.2 MB 881.8 kB/s eta 0:00:03\n",
      "   ------------------------------------ --- 23.1/25.2 MB 883.5 kB/s eta 0:00:03\n",
      "   ------------------------------------- -- 23.6/25.2 MB 891.0 kB/s eta 0:00:02\n",
      "   ------------------------------------- -- 23.6/25.2 MB 891.0 kB/s eta 0:00:02\n",
      "   ------------------------------------- -- 23.9/25.2 MB 891.5 kB/s eta 0:00:02\n",
      "   ------------------------------------- -- 23.9/25.2 MB 891.5 kB/s eta 0:00:02\n",
      "   -------------------------------------- - 24.1/25.2 MB 888.0 kB/s eta 0:00:02\n",
      "   -------------------------------------- - 24.4/25.2 MB 886.1 kB/s eta 0:00:01\n",
      "   -------------------------------------- - 24.4/25.2 MB 886.1 kB/s eta 0:00:01\n",
      "   ---------------------------------------  24.6/25.2 MB 884.1 kB/s eta 0:00:01\n",
      "   ---------------------------------------  24.6/25.2 MB 884.1 kB/s eta 0:00:01\n",
      "   ---------------------------------------  24.6/25.2 MB 884.1 kB/s eta 0:00:01\n",
      "   ---------------------------------------  24.9/25.2 MB 873.5 kB/s eta 0:00:01\n",
      "   ---------------------------------------  24.9/25.2 MB 873.5 kB/s eta 0:00:01\n",
      "   ---------------------------------------  25.2/25.2 MB 871.4 kB/s eta 0:00:01\n",
      "   ---------------------------------------- 25.2/25.2 MB 869.1 kB/s eta 0:00:00\n",
      "Downloading xxhash-3.5.0-cp313-cp313-win_amd64.whl (30 kB)\n",
      "Downloading aiohappyeyeballs-2.4.4-py3-none-any.whl (14 kB)\n",
      "Using cached aiosignal-1.3.2-py2.py3-none-any.whl (7.6 kB)\n",
      "Downloading attrs-25.1.0-py3-none-any.whl (63 kB)\n",
      "Downloading frozenlist-1.5.0-cp313-cp313-win_amd64.whl (51 kB)\n",
      "Downloading multidict-6.1.0-cp313-cp313-win_amd64.whl (28 kB)\n",
      "Downloading propcache-0.2.1-cp313-cp313-win_amd64.whl (43 kB)\n",
      "Downloading yarl-1.18.3-cp313-cp313-win_amd64.whl (315 kB)\n",
      "Installing collected packages: xxhash, pyarrow, propcache, multidict, fsspec, frozenlist, dill, attrs, aiohappyeyeballs, yarl, multiprocess, aiosignal, aiohttp, datasets\n",
      "  Attempting uninstall: fsspec\n",
      "    Found existing installation: fsspec 2024.12.0\n",
      "    Uninstalling fsspec-2024.12.0:\n",
      "      Successfully uninstalled fsspec-2024.12.0\n",
      "Successfully installed aiohappyeyeballs-2.4.4 aiohttp-3.11.11 aiosignal-1.3.2 attrs-25.1.0 datasets-3.2.0 dill-0.3.8 frozenlist-1.5.0 fsspec-2024.9.0 multidict-6.1.0 multiprocess-0.70.16 propcache-0.2.1 pyarrow-19.0.0 xxhash-3.5.0 yarl-1.18.3\n"
     ]
    },
    {
     "name": "stderr",
     "output_type": "stream",
     "text": [
      "\n",
      "[notice] A new release of pip is available: 24.2 -> 24.3.1\n",
      "[notice] To update, run: python.exe -m pip install --upgrade pip\n",
      "C:\\Users\\H\\AppData\\Roaming\\Python\\Python313\\site-packages\\huggingface_hub\\file_download.py:140: UserWarning: `huggingface_hub` cache-system uses symlinks by default to efficiently store duplicated files but your machine does not support them in C:\\Users\\H\\.cache\\huggingface\\hub\\datasets--imdb. Caching files will still work but in a degraded version that might require more space on your disk. This warning can be disabled by setting the `HF_HUB_DISABLE_SYMLINKS_WARNING` environment variable. For more details, see https://huggingface.co/docs/huggingface_hub/how-to-cache#limitations.\n",
      "To support symlinks on Windows, you either need to activate Developer Mode or to run Python as an administrator. In order to activate developer mode, see this article: https://docs.microsoft.com/en-us/windows/apps/get-started/enable-your-device-for-development\n",
      "  warnings.warn(message)\n",
      "Generating train split: 100%|██████████| 25000/25000 [00:00<00:00, 199378.99 examples/s]\n",
      "Generating test split: 100%|██████████| 25000/25000 [00:00<00:00, 211542.50 examples/s]\n",
      "Generating unsupervised split: 100%|██████████| 50000/50000 [00:00<00:00, 159753.07 examples/s]\n"
     ]
    }
   ],
   "source": [
    "%pip install datasets\n",
    "import datasets\n"
   ]
  },
  {
   "cell_type": "code",
   "execution_count": 18,
   "metadata": {},
   "outputs": [],
   "source": [
    "dataset = datasets.load_dataset(\"imdb\", split=\"train\")\n",
    "text_samples = [dataset[i]['text'] for i in range(5000)]  # First 5000 reviews"
   ]
  },
  {
   "cell_type": "code",
   "execution_count": 19,
   "metadata": {},
   "outputs": [
    {
     "name": "stdout",
     "output_type": "stream",
     "text": [
      "['I', 'rented', 'I', 'AM', 'CURIOUS-YELLOW', 'from', 'my', 'video', 'store', 'because']\n"
     ]
    }
   ],
   "source": [
    "def whitespace_tokenizer(text):\n",
    "    return text.split()\n",
    "\n",
    "tokens = whitespace_tokenizer(text_samples[0])\n",
    "print(tokens[:10])  # First 10 tokens\n"
   ]
  },
  {
   "cell_type": "code",
   "execution_count": 21,
   "metadata": {},
   "outputs": [
    {
     "name": "stdout",
     "output_type": "stream",
     "text": [
      "['I', 'rented', 'I', 'AM', 'CURIOUS-YELLOW', 'from', 'my', 'video', 'store', 'because']\n"
     ]
    }
   ],
   "source": [
    "import nltk\n",
    "from nltk.tokenize import word_tokenize\n",
    "\n",
    "tokens = word_tokenize(text_samples[0])\n",
    "print(tokens[:10])\n"
   ]
  },
  {
   "cell_type": "code",
   "execution_count": 22,
   "metadata": {},
   "outputs": [
    {
     "name": "stdout",
     "output_type": "stream",
     "text": [
      "['I', 'rented', 'I', 'AM', 'C', 'U', 'RI', 'O', 'US', '-']\n"
     ]
    }
   ],
   "source": [
    "from tokenizers import Tokenizer, models, trainers, pre_tokenizers\n",
    "\n",
    "# Initialize BPE tokenizer\n",
    "bpe_tokenizer = Tokenizer(models.BPE())\n",
    "trainer = trainers.BpeTrainer(vocab_size=5000, min_frequency=2, special_tokens=[\"<unk>\"])\n",
    "bpe_tokenizer.pre_tokenizer = pre_tokenizers.Whitespace()\n",
    "\n",
    "# Train tokenizer on IMDb dataset\n",
    "bpe_tokenizer.train_from_iterator(text_samples, trainer)\n",
    "\n",
    "tokens = bpe_tokenizer.encode(text_samples[0]).tokens\n",
    "print(tokens[:10])\n"
   ]
  },
  {
   "cell_type": "code",
   "execution_count": 23,
   "metadata": {},
   "outputs": [
    {
     "name": "stdout",
     "output_type": "stream",
     "text": [
      "['i', 'rented', 'i', 'am', 'curious', '-', 'yellow', 'from', 'my', 'video']\n"
     ]
    }
   ],
   "source": [
    "from transformers import BertTokenizer\n",
    "\n",
    "bert_tokenizer = BertTokenizer.from_pretrained(\"bert-base-uncased\")\n",
    "tokens = bert_tokenizer.tokenize(text_samples[0])\n",
    "print(tokens[:10])\n"
   ]
  }
 ],
 "metadata": {
  "kernelspec": {
   "display_name": "Python 3",
   "language": "python",
   "name": "python3"
  },
  "language_info": {
   "codemirror_mode": {
    "name": "ipython",
    "version": 3
   },
   "file_extension": ".py",
   "mimetype": "text/x-python",
   "name": "python",
   "nbconvert_exporter": "python",
   "pygments_lexer": "ipython3",
   "version": "3.13.0"
  }
 },
 "nbformat": 4,
 "nbformat_minor": 2
}
