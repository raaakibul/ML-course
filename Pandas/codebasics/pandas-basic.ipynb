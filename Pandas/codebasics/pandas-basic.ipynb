{
 "cells": [
  {
   "cell_type": "code",
   "execution_count": 2,
   "metadata": {},
   "outputs": [],
   "source": [
    "import pandas as pd"
   ]
  },
  {
   "cell_type": "code",
   "execution_count": 3,
   "metadata": {},
   "outputs": [
    {
     "name": "stdout",
     "output_type": "stream",
     "text": [
      "0    10\n",
      "1    20\n",
      "2    30\n",
      "3    40\n",
      "4    50\n",
      "dtype: int64\n"
     ]
    }
   ],
   "source": [
    "# Create a Pandas Series\n",
    "data = [10, 20, 30, 40, 50]\n",
    "series = pd.Series(data)\n",
    "\n",
    "# Print the Series\n",
    "print(series)"
   ]
  },
  {
   "cell_type": "code",
   "execution_count": 4,
   "metadata": {},
   "outputs": [
    {
     "name": "stdout",
     "output_type": "stream",
     "text": [
      "    Name  Age      City\n",
      "0   John   28  New York\n",
      "1   Anna   24     Paris\n",
      "2  Peter   35    London\n",
      "3  Linda   32    Berlin\n"
     ]
    }
   ],
   "source": [
    "# Create a DataFrame using a dictionary\n",
    "data = {\n",
    "    'Name': ['John', 'Anna', 'Peter', 'Linda'],\n",
    "    'Age': [28, 24, 35, 32],\n",
    "    'City': ['New York', 'Paris', 'London', 'Berlin']\n",
    "}\n",
    "\n",
    "df = pd.DataFrame(data)\n",
    "\n",
    "# Print the DataFrame\n",
    "print(df)"
   ]
  },
  {
   "cell_type": "code",
   "execution_count": 5,
   "metadata": {},
   "outputs": [
    {
     "name": "stdout",
     "output_type": "stream",
     "text": [
      "0     John\n",
      "1     Anna\n",
      "2    Peter\n",
      "3    Linda\n",
      "Name: Name, dtype: object\n"
     ]
    }
   ],
   "source": [
    "# Access the 'Name' column\n",
    "print(df['Name'])"
   ]
  },
  {
   "cell_type": "code",
   "execution_count": 6,
   "metadata": {},
   "outputs": [
    {
     "name": "stdout",
     "output_type": "stream",
     "text": [
      "    Name  Age\n",
      "0   John   28\n",
      "1   Anna   24\n",
      "2  Peter   35\n",
      "3  Linda   32\n"
     ]
    }
   ],
   "source": [
    "# Access 'Name' and 'Age' columns\n",
    "print(df[['Name', 'Age']])"
   ]
  },
  {
   "cell_type": "code",
   "execution_count": 7,
   "metadata": {},
   "outputs": [
    {
     "name": "stdout",
     "output_type": "stream",
     "text": [
      "Name        John\n",
      "Age           28\n",
      "City    New York\n",
      "Name: 0, dtype: object\n"
     ]
    }
   ],
   "source": [
    "# Access the first row\n",
    "print(df.iloc[0])"
   ]
  },
  {
   "cell_type": "code",
   "execution_count": 8,
   "metadata": {},
   "outputs": [
    {
     "name": "stdout",
     "output_type": "stream",
     "text": [
      "    Name  Age      City  Salary\n",
      "0   John   28  New York   50000\n",
      "1   Anna   24     Paris   55000\n",
      "2  Peter   35    London   60000\n",
      "3  Linda   32    Berlin   65000\n"
     ]
    }
   ],
   "source": [
    "# Add a new column 'Salary'\n",
    "df['Salary'] = [50000, 55000, 60000, 65000]\n",
    "print(df)\n"
   ]
  },
  {
   "cell_type": "code",
   "execution_count": 9,
   "metadata": {},
   "outputs": [
    {
     "name": "stdout",
     "output_type": "stream",
     "text": [
      "    Name  Age      City   Salary\n",
      "0   John   28  New York  55000.0\n",
      "1   Anna   24     Paris  60500.0\n",
      "2  Peter   35    London  66000.0\n",
      "3  Linda   32    Berlin  71500.0\n"
     ]
    }
   ],
   "source": [
    "# Increase all salaries by 10%\n",
    "df['Salary'] = df['Salary'] * 1.10\n",
    "print(df)\n"
   ]
  },
  {
   "cell_type": "code",
   "execution_count": 10,
   "metadata": {},
   "outputs": [
    {
     "name": "stdout",
     "output_type": "stream",
     "text": [
      "    Name  Age   Salary\n",
      "0   John   28  55000.0\n",
      "1   Anna   24  60500.0\n",
      "2  Peter   35  66000.0\n",
      "3  Linda   32  71500.0\n"
     ]
    }
   ],
   "source": [
    "# Drop the 'City' column\n",
    "df = df.drop(columns=['City'])\n",
    "print(df)\n"
   ]
  },
  {
   "cell_type": "code",
   "execution_count": 11,
   "metadata": {},
   "outputs": [
    {
     "name": "stdout",
     "output_type": "stream",
     "text": [
      "    Name  Age   Salary\n",
      "2  Peter   35  66000.0\n",
      "3  Linda   32  71500.0\n"
     ]
    }
   ],
   "source": [
    "# Get rows where Age is greater than 30\n",
    "filtered_df = df[df['Age'] > 30]\n",
    "print(filtered_df)\n"
   ]
  },
  {
   "cell_type": "code",
   "execution_count": 12,
   "metadata": {},
   "outputs": [
    {
     "name": "stdout",
     "output_type": "stream",
     "text": [
      "Empty DataFrame\n",
      "Columns: [Name, Age, Salary]\n",
      "Index: []\n"
     ]
    }
   ],
   "source": [
    "# Get rows where Age is greater than 30 and Salary is less than 60000\n",
    "filtered_df = df[(df['Age'] > 30) & (df['Salary'] < 60000)]\n",
    "print(filtered_df)"
   ]
  },
  {
   "cell_type": "code",
   "execution_count": 13,
   "metadata": {},
   "outputs": [
    {
     "name": "stdout",
     "output_type": "stream",
     "text": [
      "    Name    Age   City\n",
      "0  False  False  False\n",
      "1  False   True  False\n",
      "2  False  False  False\n",
      "3   True  False  False\n"
     ]
    }
   ],
   "source": [
    "# Create a DataFrame with missing data\n",
    "df_missing = pd.DataFrame({\n",
    "    'Name': ['John', 'Anna', 'Peter', None],\n",
    "    'Age': [28, None, 35, 32],\n",
    "    'City': ['New York', 'Paris', 'Berlin', 'London']\n",
    "})\n",
    "\n",
    "# Check for missing values\n",
    "print(df_missing.isnull())"
   ]
  },
  {
   "cell_type": "code",
   "execution_count": 14,
   "metadata": {},
   "outputs": [
    {
     "name": "stdout",
     "output_type": "stream",
     "text": [
      "    Name        Age      City\n",
      "0   John  28.000000  New York\n",
      "1   Anna  31.666667     Paris\n",
      "2  Peter  35.000000    Berlin\n",
      "3   None  32.000000    London\n"
     ]
    },
    {
     "name": "stderr",
     "output_type": "stream",
     "text": [
      "C:\\Users\\H\\AppData\\Local\\Temp\\ipykernel_14224\\1131301405.py:2: FutureWarning: A value is trying to be set on a copy of a DataFrame or Series through chained assignment using an inplace method.\n",
      "The behavior will change in pandas 3.0. This inplace method will never work because the intermediate object on which we are setting values always behaves as a copy.\n",
      "\n",
      "For example, when doing 'df[col].method(value, inplace=True)', try using 'df.method({col: value}, inplace=True)' or df[col] = df[col].method(value) instead, to perform the operation inplace on the original object.\n",
      "\n",
      "\n",
      "  df_missing['Age'].fillna(df_missing['Age'].mean(), inplace=True)\n"
     ]
    }
   ],
   "source": [
    "# Fill missing values in 'Age' column with the mean of the column\n",
    "df_missing['Age'].fillna(df_missing['Age'].mean(), inplace=True)\n",
    "\n",
    "print(df_missing)"
   ]
  },
  {
   "cell_type": "code",
   "execution_count": 15,
   "metadata": {},
   "outputs": [],
   "source": [
    "# Save the DataFrame to a CSV file\n",
    "df.to_csv('output.csv', index=False)"
   ]
  },
  {
   "cell_type": "code",
   "execution_count": 16,
   "metadata": {},
   "outputs": [
    {
     "name": "stdout",
     "output_type": "stream",
     "text": [
      "    Name  Age   Salary\n",
      "0   John   28  55000.0\n",
      "1   Anna   24  60500.0\n",
      "2  Peter   35  66000.0\n",
      "3  Linda   32  71500.0\n"
     ]
    }
   ],
   "source": [
    "# Read data from a CSV file\n",
    "df_new = pd.read_csv('output.csv')\n",
    "\n",
    "print(df_new)"
   ]
  },
  {
   "cell_type": "code",
   "execution_count": 20,
   "metadata": {},
   "outputs": [
    {
     "name": "stdout",
     "output_type": "stream",
     "text": [
      "Name\n",
      "Anna     24.0\n",
      "John     28.0\n",
      "Linda    32.0\n",
      "Peter    35.0\n",
      "Name: Age, dtype: float64\n"
     ]
    }
   ],
   "source": [
    "# Group by 'City' and calculate the mean of 'Age'\n",
    "grouped_df = df.groupby('Name')['Age'].mean()\n",
    "\n",
    "print(grouped_df)"
   ]
  },
  {
   "cell_type": "code",
   "execution_count": 21,
   "metadata": {},
   "outputs": [
    {
     "name": "stdout",
     "output_type": "stream",
     "text": [
      "   EmployeeID   Name Department\n",
      "0           1   John         HR\n",
      "1           2   Anna    Finance\n",
      "2           3  Peter         IT\n"
     ]
    }
   ],
   "source": [
    "# Create two DataFrames\n",
    "df1 = pd.DataFrame({\n",
    "    'EmployeeID': [1, 2, 3, 4],\n",
    "    'Name': ['John', 'Anna', 'Peter', 'Linda'],\n",
    "})\n",
    "\n",
    "df2 = pd.DataFrame({\n",
    "    'EmployeeID': [1, 2, 3, 5],\n",
    "    'Department': ['HR', 'Finance', 'IT', 'Marketing'],\n",
    "})\n",
    "\n",
    "# Merge the two DataFrames on 'EmployeeID'\n",
    "merged_df = pd.merge(df1, df2, on='EmployeeID', how='inner')\n",
    "\n",
    "print(merged_df)"
   ]
  },
  {
   "cell_type": "code",
   "execution_count": 22,
   "metadata": {},
   "outputs": [
    {
     "name": "stdout",
     "output_type": "stream",
     "text": [
      "   EmployeeID   Name Department\n",
      "0           1   John         HR\n",
      "1           2   Anna    Finance\n",
      "2           3  Peter         IT\n",
      "3           4  Linda        NaN\n"
     ]
    }
   ],
   "source": [
    "# Left Join\n",
    "left_joined = pd.merge(df1, df2, on='EmployeeID', how='left')\n",
    "print(left_joined)"
   ]
  }
 ],
 "metadata": {
  "kernelspec": {
   "display_name": "Python 3",
   "language": "python",
   "name": "python3"
  },
  "language_info": {
   "codemirror_mode": {
    "name": "ipython",
    "version": 3
   },
   "file_extension": ".py",
   "mimetype": "text/x-python",
   "name": "python",
   "nbconvert_exporter": "python",
   "pygments_lexer": "ipython3",
   "version": "3.13.0"
  }
 },
 "nbformat": 4,
 "nbformat_minor": 2
}
